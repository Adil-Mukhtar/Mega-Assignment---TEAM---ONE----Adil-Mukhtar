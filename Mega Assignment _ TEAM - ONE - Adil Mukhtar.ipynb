{
 "cells": [
  {
   "cell_type": "code",
   "execution_count": 1,
   "metadata": {},
   "outputs": [],
   "source": [
    "# Question 01:"
   ]
  },
  {
   "cell_type": "code",
   "execution_count": 2,
   "metadata": {},
   "outputs": [],
   "source": [
    "# ALL EXCEPT INDEX ARE RELATED TO DICTIONARIES."
   ]
  },
  {
   "cell_type": "code",
   "execution_count": 3,
   "metadata": {},
   "outputs": [],
   "source": [
    "# Question 02:"
   ]
  },
  {
   "cell_type": "code",
   "execution_count": 4,
   "metadata": {},
   "outputs": [],
   "source": [
    "# False, we can't use + operator to extend a dictionary it will raise the following error:\n",
    "# unsupported operand type(s) for +: 'dict' and 'dict'"
   ]
  },
  {
   "cell_type": "code",
   "execution_count": 5,
   "metadata": {},
   "outputs": [],
   "source": [
    "# Question 03:"
   ]
  },
  {
   "cell_type": "code",
   "execution_count": 6,
   "metadata": {},
   "outputs": [],
   "source": [
    "# False, there is no concept of indexing in dictionary. Every item is at an arbitary location of memory reserved for dictionary"
   ]
  },
  {
   "cell_type": "code",
   "execution_count": 7,
   "metadata": {},
   "outputs": [],
   "source": [
    "# Question 04:"
   ]
  },
  {
   "cell_type": "code",
   "execution_count": 153,
   "metadata": {},
   "outputs": [],
   "source": [
    "#fruits = {\"Apples\":3.90, \"Oranges\":2.78}\n",
    "#print(\"Dictionary:\", d)\n",
    "#print()\n",
    "#print(fruits.get(\"Guava\"))\n",
    "\n",
    "# value \"None\" is returned"
   ]
  },
  {
   "cell_type": "code",
   "execution_count": null,
   "metadata": {},
   "outputs": [],
   "source": [
    "# Question 05:"
   ]
  },
  {
   "cell_type": "code",
   "execution_count": null,
   "metadata": {},
   "outputs": [],
   "source": [
    "#fruits = {\"Apples\":3.90, \"Oranges\":2.78, \"Banana\":1.90}\n",
    "#x = fruits.pop(\"Banana\")\n",
    "#print(x)\n",
    "#print()\n",
    "#print(fruits, \"|| One item is removed from the dictionary\")\n",
    "\n",
    "#.pop returns the value of the key if key exists"
   ]
  },
  {
   "cell_type": "code",
   "execution_count": null,
   "metadata": {},
   "outputs": [],
   "source": [
    "# Question 06:"
   ]
  },
  {
   "cell_type": "code",
   "execution_count": null,
   "metadata": {},
   "outputs": [],
   "source": [
    "#fruits = {\"Apples\":3.90, \"Oranges\":2.78, \"Banana\":1.90}\n",
    "#x = fruits.popitem()\n",
    "#print(x)\n",
    "#print()\n",
    "#print(fruits, \"|| One item is removed from the dictionary\")\n",
    "\n",
    "# So .popitems returns a tuple (key, value) pair"
   ]
  },
  {
   "cell_type": "code",
   "execution_count": null,
   "metadata": {},
   "outputs": [],
   "source": [
    "# Question 07:\n",
    "\n",
    "#fruits = {\"Apples\":3.90, \"Oranges\":2.78, \"Banana\":1.90}\n",
    "\n",
    "#print(fruits.items())\n",
    "#print()\n",
    "#print(fruits.keys())\n",
    "#print()\n",
    "#print(fruits.values())\n",
    "\n",
    "# I;m sure about the .item method as it can iterate through the items of dicitonary but other two only iterate throught\n",
    "# either value or keys as the name says"
   ]
  },
  {
   "cell_type": "code",
   "execution_count": null,
   "metadata": {},
   "outputs": [],
   "source": [
    "#fruits = {\"Apples\":3.90, \"Oranges\":2.78, \"Banana\":1.90}\n",
    "#print(fruits.indexes())\n",
    "# And as for indexes, well it's not a method for the object dictionaries, and also dictionary dont use indexing\n",
    "# it will make them same as a list.\n",
    "\n",
    "# So my answer is .items() only"
   ]
  },
  {
   "cell_type": "code",
   "execution_count": null,
   "metadata": {},
   "outputs": [],
   "source": [
    "# Question 08:"
   ]
  },
  {
   "cell_type": "code",
   "execution_count": null,
   "metadata": {},
   "outputs": [],
   "source": [
    "# Curly braces {} are used to enclose a dictionary"
   ]
  },
  {
   "cell_type": "code",
   "execution_count": null,
   "metadata": {},
   "outputs": [],
   "source": [
    "# Question 09:"
   ]
  },
  {
   "cell_type": "code",
   "execution_count": null,
   "metadata": {},
   "outputs": [],
   "source": [
    "#dic = {}\n",
    "#print(dic)\n",
    "#print()\n",
    "#dic.update({\"Cars\":45, \"Trucks\":15}) # updating dictionary\n",
    "#print(dic)\n",
    "#print()\n",
    "#print(dic[\"Cars\"]) # checking a key\n",
    "#print()\n",
    "#print(dic.keys()) # checking keys\n",
    "#print()\n",
    "#print(dic.values()) # checking values\n",
    "#print()\n",
    "#print(dic.items()) # checking itmes"
   ]
  },
  {
   "cell_type": "code",
   "execution_count": null,
   "metadata": {},
   "outputs": [],
   "source": [
    "# Question 10:"
   ]
  },
  {
   "cell_type": "code",
   "execution_count": 189,
   "metadata": {},
   "outputs": [],
   "source": [
    "#?"
   ]
  },
  {
   "cell_type": "code",
   "execution_count": null,
   "metadata": {},
   "outputs": [],
   "source": [
    "# Question 11:"
   ]
  },
  {
   "cell_type": "code",
   "execution_count": 188,
   "metadata": {},
   "outputs": [],
   "source": [
    "#      0      1      2      3      4      5      6      7\n",
    "#X = [\"Feb\", \"Apr\", \"Mar\", \"May\", \"Jun\", \"Jul\", \"Aug\", \"Jan\"]\n",
    "#      -8    -7     -6     -5     -4     -3     -2     -1\n",
    "\n",
    "#X[0:3] # Feb - Mar\n",
    "#X[2:8] # Mar - Jan , as 8-1 = 7 so last element-1\n",
    "#X[4:9] # Jun - Jan\n",
    "#X[1:7:2] # apr, may, jul\n",
    "#X[-1:-7] # [] as the direction is still the same\n",
    "#X[-7:7] # Apr - Aug\n",
    "#X[-1:-8:-2] # Jan, Jul, May, Apr\n",
    "#X[:4] # form 0 - (4-1) Feb - May"
   ]
  },
  {
   "cell_type": "code",
   "execution_count": 187,
   "metadata": {},
   "outputs": [],
   "source": [
    "# Question 12:\n",
    "#X = [ 9,2,8,4,5]\n",
    "#print(X.remove(9))\n",
    "# to achieve a set with output [2,8,4,5]\n",
    "#X = [ 9,2,8,4,5]\n",
    "#del(X[0]) # I could have used X.pop(0) but i don't want to return anything\n",
    "#print(X)\n"
   ]
  },
  {
   "cell_type": "code",
   "execution_count": null,
   "metadata": {},
   "outputs": [],
   "source": [
    "# Question 13:"
   ]
  },
  {
   "cell_type": "code",
   "execution_count": 186,
   "metadata": {},
   "outputs": [],
   "source": [
    "# The answer is *, ** is not supported and also it's exponent so don't make sense\n",
    "#p = 3\n",
    "#q = 'hello! '\n",
    "#print( q * p)"
   ]
  },
  {
   "cell_type": "code",
   "execution_count": null,
   "metadata": {},
   "outputs": [],
   "source": [
    "# Question 14:"
   ]
  },
  {
   "cell_type": "code",
   "execution_count": 185,
   "metadata": {},
   "outputs": [],
   "source": [
    "#y = \"this is a random sentence\"\n",
    "#print(y.upper())\n",
    "# Use .upper()"
   ]
  },
  {
   "cell_type": "code",
   "execution_count": 184,
   "metadata": {},
   "outputs": [],
   "source": [
    "# Question 15:\n",
    "#p = True\n",
    "#q = 'True'\n",
    "#r = 2\n",
    "#s = 2.0\n",
    "#print(type(p)) # bool\n",
    "#print(type(q)) # str\n",
    "#print(type(r)) # int\n",
    "#print(type(s)) # float"
   ]
  },
  {
   "cell_type": "code",
   "execution_count": null,
   "metadata": {},
   "outputs": [],
   "source": [
    "# Question 16:"
   ]
  },
  {
   "cell_type": "code",
   "execution_count": null,
   "metadata": {},
   "outputs": [],
   "source": [
    "# function_1(R1, q, p=None, R2= None)\n",
    "# the answer is p R2, both a are optional arguments"
   ]
  },
  {
   "cell_type": "code",
   "execution_count": null,
   "metadata": {},
   "outputs": [],
   "source": [
    "# Question 17:"
   ]
  },
  {
   "cell_type": "code",
   "execution_count": null,
   "metadata": {},
   "outputs": [],
   "source": [
    "# 1) X(p)\n",
    "# 2) p$x()\n",
    "# 3) X().p\n",
    "# 4) p.x()\n",
    "\n",
    "# 4) p.x() is the correct option"
   ]
  },
  {
   "cell_type": "code",
   "execution_count": 183,
   "metadata": {},
   "outputs": [],
   "source": [
    "#X = 4\n",
    "#Y = 2\n",
    "#print(X % Y) # 0\n",
    "#print(X / Y) # 2\n",
    "#print(X // Y) # 2.0 , it mean show many times the number can the number be divided.\n",
    "#print(Y % X) # i don't understand this one"
   ]
  },
  {
   "cell_type": "code",
   "execution_count": 11,
   "metadata": {},
   "outputs": [],
   "source": [
    "# Question 18:"
   ]
  },
  {
   "cell_type": "code",
   "execution_count": null,
   "metadata": {},
   "outputs": [],
   "source": [
    "#?"
   ]
  },
  {
   "cell_type": "code",
   "execution_count": 14,
   "metadata": {},
   "outputs": [],
   "source": [
    "# Question 19:"
   ]
  },
  {
   "cell_type": "code",
   "execution_count": null,
   "metadata": {},
   "outputs": [],
   "source": [
    "#?"
   ]
  },
  {
   "cell_type": "code",
   "execution_count": 15,
   "metadata": {},
   "outputs": [],
   "source": [
    "# Question 20:"
   ]
  },
  {
   "cell_type": "code",
   "execution_count": 16,
   "metadata": {},
   "outputs": [],
   "source": [
    "# Which of these about a dictionary is false?\n",
    "# a) The values of a dictionary can be accessed using keys\n",
    "# b) The keys of a dictionary can be accessed using values\n",
    "# c) Dictionaries aren’t ordered\n",
    "# d) Dictionaries are mutable\n",
    "\n",
    "# The answer is b), keys cannot be accessed using values"
   ]
  },
  {
   "cell_type": "code",
   "execution_count": 17,
   "metadata": {},
   "outputs": [],
   "source": [
    "# Question 21:"
   ]
  },
  {
   "cell_type": "code",
   "execution_count": 26,
   "metadata": {},
   "outputs": [],
   "source": [
    "# D = dict()\n",
    "# for i in range (3):\n",
    "#  for j in range(2):\n",
    "#   D[i] = j\n",
    "\n",
    "# the answer is {0:1, 1:1, 2:1}"
   ]
  },
  {
   "cell_type": "code",
   "execution_count": 27,
   "metadata": {},
   "outputs": [],
   "source": [
    "# Question 22:"
   ]
  },
  {
   "cell_type": "code",
   "execution_count": 28,
   "metadata": {},
   "outputs": [],
   "source": [
    "# True for first MCQ as if there is no value for points in calling time, so we will set the default value\n",
    "# True for 2nd MCQ as if there is no value for Bonus in calling time, so we will set the default value\n",
    "# True for the last MCQ as defaults arguments always comes after non-default ones"
   ]
  },
  {
   "cell_type": "code",
   "execution_count": 29,
   "metadata": {},
   "outputs": [],
   "source": [
    "# Question 23:"
   ]
  },
  {
   "cell_type": "code",
   "execution_count": 190,
   "metadata": {},
   "outputs": [],
   "source": [
    "#def avg (*opt_values, name):\n",
    "#    avg_value = sum (opt_values) / len(opt_values)\n",
    "#    print(\"Name is: \" + name + \" || Marks: \" + str(avg_value))\n",
    "    \n",
    "#avg ( 5 , 9 , 20, 34, 87, 112 , name = \"Jake\" ) #\n",
    "\n",
    "# Corrections also done and here is the output"
   ]
  },
  {
   "cell_type": "code",
   "execution_count": 43,
   "metadata": {},
   "outputs": [],
   "source": [
    "# Question 24:"
   ]
  },
  {
   "cell_type": "code",
   "execution_count": 44,
   "metadata": {},
   "outputs": [],
   "source": [
    "# def display_result(winner, score, **other_info):\n",
    "# print(\"The winner was \" + winner)\n",
    "# print(\"The score was \" + score)\n",
    "# display_result(winner=“Manchester\", score=\"1-0\", overtime =\"yes\", injuries=\"none\")\n",
    "\n",
    "# relation are as following:\n",
    "# winner = \"Man....\" is keyword argument\n",
    "# score = \"1-0\" is also keyword argument\n",
    "# Injuries = \"none\" and Overtime = \"yes\" are used as two keyword arguments for the kwargs **other_info"
   ]
  },
  {
   "cell_type": "code",
   "execution_count": 45,
   "metadata": {},
   "outputs": [],
   "source": [
    "# Question 25:"
   ]
  },
  {
   "cell_type": "code",
   "execution_count": 50,
   "metadata": {},
   "outputs": [],
   "source": [
    "#def avg ( x , y , z = 50 ):\n",
    "#    adding = x + y + z\n",
    "#    avg_value = adding / 3\n",
    "#    return avg_value\n",
    "\n",
    "# result = avg ( x = 5 , y = 9 , z = 20 )\n",
    "# print(result)v \n",
    "\n",
    "# Answer is 11.34"
   ]
  },
  {
   "cell_type": "code",
   "execution_count": 51,
   "metadata": {},
   "outputs": [],
   "source": [
    "# Question 26:"
   ]
  },
  {
   "cell_type": "code",
   "execution_count": 182,
   "metadata": {},
   "outputs": [],
   "source": [
    "#def display_result(winner, **other_info, score):\n",
    "#    print(\"The winner was \" + winner)\n",
    "#    print(\"The score was \" + score)\n",
    "\n",
    "#display_result(winner=\"Manchester\", overtime = \"yes\", injuries  =\"none\" , score = \"1-0\")\n",
    "\n",
    "# it says invalid syntax, so i can deduce that normal parameter don't follows the kwargs, e.g score is following kwarg **other_info"
   ]
  },
  {
   "cell_type": "code",
   "execution_count": 181,
   "metadata": {},
   "outputs": [],
   "source": [
    "# Here is the corrected code\n",
    "#def display_result(winner, score, **other_info):\n",
    "#    print(\"The winner was \" + winner)\n",
    "#    print(\"The score was \" + score)\n",
    "\n",
    "#display_result(winner=\"Manchester\", score = \"1-0\", overtime =\"yes\", injuries=\"none\")#"
   ]
  },
  {
   "cell_type": "code",
   "execution_count": 192,
   "metadata": {},
   "outputs": [],
   "source": [
    "# Question 27:\n",
    "\n",
    "#? dont know the concept"
   ]
  },
  {
   "cell_type": "code",
   "execution_count": 79,
   "metadata": {},
   "outputs": [],
   "source": [
    "# Question 28:"
   ]
  },
  {
   "cell_type": "code",
   "execution_count": 191,
   "metadata": {},
   "outputs": [],
   "source": [
    "#?"
   ]
  },
  {
   "cell_type": "code",
   "execution_count": 81,
   "metadata": {},
   "outputs": [],
   "source": [
    "# Question 29:"
   ]
  },
  {
   "cell_type": "code",
   "execution_count": 86,
   "metadata": {},
   "outputs": [],
   "source": [
    "#'{0:f}, {1:2f}, {2:05.2f}'.format(1.23456, 1.23456, 1.23456)\n",
    "# '1.234560, 1.234560, 01.23' is answer which is d) option"
   ]
  },
  {
   "cell_type": "code",
   "execution_count": 87,
   "metadata": {},
   "outputs": [],
   "source": [
    "# Question 30:"
   ]
  },
  {
   "cell_type": "code",
   "execution_count": 180,
   "metadata": {},
   "outputs": [],
   "source": [
    "#i = 1\n",
    "#while False:\n",
    "#    if i%2 == 0:\n",
    "#        break\n",
    "#\n",
    "#    print(i)\n",
    "#    i += 2"
   ]
  },
  {
   "cell_type": "code",
   "execution_count": 96,
   "metadata": {},
   "outputs": [],
   "source": [
    "#?"
   ]
  },
  {
   "cell_type": "code",
   "execution_count": 97,
   "metadata": {},
   "outputs": [],
   "source": [
    "# Question 31:"
   ]
  },
  {
   "cell_type": "code",
   "execution_count": 179,
   "metadata": {},
   "outputs": [],
   "source": [
    "#x = \"abcdef\"\n",
    "#i = \"a\"\n",
    "#while i in x: # checks whether i is a member of x\n",
    "#    x = x[:-1] # it will be empty\n",
    "#    print(i, end = \" \")"
   ]
  },
  {
   "cell_type": "code",
   "execution_count": 178,
   "metadata": {},
   "outputs": [],
   "source": [
    "# Now the condition will be false as there is no \"i\" in \"x\", loop won't execute\n",
    "#x = \"bcdef\"\n",
    "#i = \"a\"\n",
    "#while i in x: # checks whether i is a member of x\n",
    "#    x = x[:-1] # it will be empty\n",
    "#    print(i, end = \" \")"
   ]
  },
  {
   "cell_type": "code",
   "execution_count": 177,
   "metadata": {},
   "outputs": [],
   "source": [
    "# It won't work with i = \"ac\" as there is no \"ac\" as an individual in the string \"abcdef\".\n",
    "#x = \"abcdef\"\n",
    "#i = \"ac\"\n",
    "#while i in x: # checks whether i is a member of x\n",
    "#    x = x[:-1] # it will be empty\n",
    "#    print(i, end = \" \")"
   ]
  },
  {
   "cell_type": "code",
   "execution_count": 176,
   "metadata": {},
   "outputs": [],
   "source": [
    "# 3 will work with it as there is \"ab\" as individual unit imn the string \"abcdef\"\n",
    "#x = \"abcdef\"\n",
    "#i = \"ab\"\n",
    "#while i in x: # checks whether i is a member of x\n",
    "#    x = x[:-1] # it will be empty\n",
    "#    print(i, end = \" \")"
   ]
  },
  {
   "cell_type": "code",
   "execution_count": 112,
   "metadata": {},
   "outputs": [],
   "source": [
    "# Question 32:"
   ]
  },
  {
   "cell_type": "code",
   "execution_count": 129,
   "metadata": {},
   "outputs": [],
   "source": [
    "#for i in ''.join(reversed(list('abcd'))):  joined the reverse of the list of a string \"abcd\" to an empty string.\n",
    "#    print (i)                              assigns i an element of the list during each iteration, i.e i=d,i=c,i=b,i=a\n",
    "\n",
    "# 1st iteration (i = d)\n",
    "# 2nd iteration (i = c)\n",
    "# 3rd iteration (i = b)\n",
    "# 4th iteration (i = a)"
   ]
  },
  {
   "cell_type": "code",
   "execution_count": 130,
   "metadata": {},
   "outputs": [],
   "source": [
    "# Question 33:"
   ]
  },
  {
   "cell_type": "code",
   "execution_count": 139,
   "metadata": {},
   "outputs": [],
   "source": [
    "#for i in range(10):        # will iterate from 0 - 9\n",
    "#    if i == 5:              # break loop when i == 5\n",
    "#        break\n",
    "#    else:\n",
    "#        print(i)           # else print i, i.e 0,1,2,3,4 after the 5th time it would break\n",
    "#    else:                  # i don't know what this else do, all i know is that there can't be more then one else in the same block.\n",
    "#        print(\"Here\")"
   ]
  },
  {
   "cell_type": "code",
   "execution_count": 140,
   "metadata": {},
   "outputs": [],
   "source": [
    "# Question 34:"
   ]
  },
  {
   "cell_type": "code",
   "execution_count": 141,
   "metadata": {},
   "outputs": [],
   "source": [
    "# a lambda function is one line function, intended for single use.\n",
    "# the left side of the colon in the lambda function act as the parameters.\n",
    "# the right side of the colon in the lambda function acr as the body. it will perform the task and will return the value too.\n",
    "# lambda function will always return something\n",
    "# it can be named or unnamed unlike like normal function whose name is must.\n",
    "\n",
    "# now solving the question:\n",
    "# y = 6 ... assigning value to y\n",
    "# z = lambda x: x*y .... here x act as parameter and the x*y is the task of the fucntion and returns the result to z"
   ]
  },
  {
   "cell_type": "code",
   "execution_count": 152,
   "metadata": {},
   "outputs": [],
   "source": [
    "#y = 6\n",
    "#z = lambda x:x*y will multiply 8 with 6 = 48\n",
    "#print (z(8)) giving 8 as argument"
   ]
  },
  {
   "cell_type": "code",
   "execution_count": 154,
   "metadata": {},
   "outputs": [],
   "source": [
    "# Question 35:"
   ]
  },
  {
   "cell_type": "code",
   "execution_count": 155,
   "metadata": {},
   "outputs": [],
   "source": [
    "# the output of this function = 2\n",
    "#i=0\n",
    "#def change(i):\n",
    "#  i=i+1\n",
    "#  return i\n",
    "#change(1)\n",
    "#print(i)"
   ]
  },
  {
   "cell_type": "code",
   "execution_count": 156,
   "metadata": {},
   "outputs": [],
   "source": [
    "# Question 36:\n",
    "\n",
    "# the output of this function = (2,3,4) a tuple of integers\n",
    "#def change(one, *two):   one is a normal paramete while *two is an arg type argument(it can take multiple arguments)\n",
    "#    print(type(two))     it will show the type of argument two\n",
    "#    print(two)           it will print the value of two, which in case is (2,3,4) ... as 1 is passed to one and rest to two.\n",
    "#change(1,2,3,4)"
   ]
  },
  {
   "cell_type": "code",
   "execution_count": 158,
   "metadata": {},
   "outputs": [],
   "source": [
    "# Question 37:"
   ]
  },
  {
   "cell_type": "code",
   "execution_count": 159,
   "metadata": {},
   "outputs": [],
   "source": [
    "# the output of this function = the output of this function show the type of the argument b which is Kwarg\n",
    "#def find(a, **b):    a is a normal parameter while **b is a kwarg type(can take multiple keyword arguments)\n",
    "#    print(type(b))    will print the type of b parameter\n",
    "#find('letters',A='1',B='2')"
   ]
  },
  {
   "cell_type": "code",
   "execution_count": 160,
   "metadata": {},
   "outputs": [],
   "source": [
    "#Question 38:"
   ]
  },
  {
   "cell_type": "code",
   "execution_count": 163,
   "metadata": {},
   "outputs": [],
   "source": [
    "#def foo(i, x=[]):       #one is simple variable parameter other is list\n",
    "#    x.append(i)         #will append i to the list x\n",
    "#    return x            #will return the value of x\n",
    "#for i in range(3):      #will assign i some integers\n",
    "#    print(foo(i))           #passing argument as i during every iteration and printing the output too\n",
    "\n",
    "# here is the output\n",
    "# [0]\n",
    "# [0,1]\n",
    "# [0,1,2]"
   ]
  },
  {
   "cell_type": "code",
   "execution_count": 164,
   "metadata": {},
   "outputs": [],
   "source": [
    "# Question 39:"
   ]
  },
  {
   "cell_type": "code",
   "execution_count": 165,
   "metadata": {},
   "outputs": [],
   "source": [
    "# (Brackets, Exponents, Multiplication, Addition / Subtraction, Left to right rule)\n",
    "# brackets () is used to tell pythin the first operation to priotorize\n",
    "# Exponents ** is simply used for power\n",
    "# Multiplication * to perform multiplication function.\n",
    "# Addition + is used to add number and also concatenate strings.\n",
    "# subtraction - is used to subtract numbers.\n",
    "# left to right rule ... the operation on the left will be prior to the right.\n",
    "\n",
    "# (3*(1+2)**2 - (2**2)*3) here (1+2) will be performed first due to parenthesis and left to right rule"
   ]
  },
  {
   "cell_type": "code",
   "execution_count": 169,
   "metadata": {},
   "outputs": [],
   "source": [
    "# Question 40:"
   ]
  },
  {
   "cell_type": "code",
   "execution_count": 170,
   "metadata": {},
   "outputs": [],
   "source": [
    "# A float is passed into the function\n",
    "# The function must take the absolute value of the float\n",
    "# Any decimal points after the integer must be removed\n",
    "#A. math.fmod(x)\n",
    "#B. math.frexp(x)\n",
    "#C. math.floor(x)\n",
    "#D. math.ceil(x)\n",
    "#E. math.fabs(x)\n",
    "\n",
    "# Solution is below:\n",
    "\n",
    "# use math.fabs to take the absolute value of the float\n",
    "# use math.floor to remove the decimal part."
   ]
  },
  {
   "cell_type": "code",
   "execution_count": 173,
   "metadata": {},
   "outputs": [],
   "source": [
    "#Which two functions should you use? Each correct answer presents a complete solution. (Choose two.)\n",
    "#A. random.randint(5, 12)\n",
    "#B. random.randint(5, 11)         this one (will print an integer between 5 to 11)\n",
    "#C. random.randrange(5, 12, 1)    and this one (will print an integer between 5 to 11, as it's a range so 12-1 = 11)\n",
    "#D. random.randrange(5, 11, 1)\n",
    "\n",
    "# option b and c are correct."
   ]
  },
  {
   "cell_type": "code",
   "execution_count": 175,
   "metadata": {},
   "outputs": [],
   "source": [
    "#number = int(input(\"Enter your marks: \"))\n",
    "#if number >= 90:\n",
    "#    print(\"Your grade is A+\")\n",
    "#elif number >= 80:\n",
    "#    print(\"Your grade is A\")\n",
    "#elif number >= 70:\n",
    "#    print(\"Your grade is B\")\n",
    "#elif number >= 60:\n",
    "#    print(\"Your grade is C\")\n",
    "#elif number >= 50:\n",
    "#    print(\"Your grade is D\")\n",
    "#elif number >= 40:\n",
    "#    print(\"Your grade is E\")\n",
    "#else:\n",
    "#    print(\"Your grade is F\")"
   ]
  },
  {
   "cell_type": "code",
   "execution_count": null,
   "metadata": {},
   "outputs": [],
   "source": []
  }
 ],
 "metadata": {
  "kernelspec": {
   "display_name": "Python 3",
   "language": "python",
   "name": "python3"
  },
  "language_info": {
   "codemirror_mode": {
    "name": "ipython",
    "version": 3
   },
   "file_extension": ".py",
   "mimetype": "text/x-python",
   "name": "python",
   "nbconvert_exporter": "python",
   "pygments_lexer": "ipython3",
   "version": "3.7.4"
  }
 },
 "nbformat": 4,
 "nbformat_minor": 2
}
